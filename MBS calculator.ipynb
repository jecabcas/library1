{
 "cells": [
  {
   "cell_type": "code",
   "execution_count": 1,
   "metadata": {},
   "outputs": [],
   "source": [
    "#This notebook contains a MBS toy calculator.\n",
    "#The basic design is done in order to reflect\n",
    "#the impact of the pre-paymanent rate.\n",
    "#This tool is only meant to work as an academic example.\n"
   ]
  },
  {
   "cell_type": "markdown",
   "metadata": {},
   "source": [
    "The MIT License (MIT)\n",
    "\n",
    "Copyright (c) 2020 Emilio Cabrera\n",
    "\n",
    "Permission is hereby granted, free of charge, to any person obtaining a copy of this software and associated documentation files (the \"Software\"), to deal in the Software without restriction, including without limitation the rights to use, copy, modify, merge, publish, distribute, sublicense, and/or sell copies of the Software, and to permit persons to whom the Software is furnished to do so, subject to the following conditions:\n",
    "\n",
    "The above copyright notice and this permission notice shall be included in all copies or substantial portions of the Software.\n",
    "\n",
    "THE SOFTWARE IS PROVIDED \"AS IS\", WITHOUT WARRANTY OF ANY KIND, EXPRESS OR IMPLIED, INCLUDING BUT NOT LIMITED TO THE WARRANTIES OF MERCHANTABILITY, FITNESS FOR A PARTICULAR PURPOSE AND NONINFRINGEMENT. IN NO EVENT SHALL THE AUTHORS OR COPYRIGHT HOLDERS BE LIABLE FOR ANY CLAIM, DAMAGES OR OTHER LIABILITY, WHETHER IN AN ACTION OF CONTRACT, TORT OR OTHERWISE, ARISING FROM, OUT OF OR IN CONNECTION WITH THE SOFTWARE OR THE USE OR OTHER DEALINGS IN THE SOFTWARE."
   ]
  },
  {
   "cell_type": "code",
   "execution_count": 106,
   "metadata": {},
   "outputs": [],
   "source": [
    "#Libraries\n",
    "import numpy as np\n",
    "import pandas as pd\n",
    "import datetime as dt\n",
    "import math\n",
    "from matplotlib import pyplot as plt\n",
    "import seaborn as sns"
   ]
  },
  {
   "cell_type": "code",
   "execution_count": 3,
   "metadata": {},
   "outputs": [],
   "source": [
    "#data example\n",
    "dt0 = [1,3,6,12,24,36,60,84,120,180] #Tenor in months\n",
    "lib0 = [0.16/100,0.24/100,0.33/100,0.26/100,0.53/100,0.97/100,1.41/100,1.75/100,2.04/100,2.23/100] #Interest rate per tenor"
   ]
  },
  {
   "cell_type": "code",
   "execution_count": 4,
   "metadata": {},
   "outputs": [],
   "source": [
    "node1 = [50]\n",
    "node2 = [25, 50, 75, 100]"
   ]
  },
  {
   "cell_type": "code",
   "execution_count": 5,
   "metadata": {},
   "outputs": [],
   "source": [
    "class yield_manager:\n",
    "    #This class is designed to manage all the related functionalities to yield curves and discounting\n",
    "    #This class includes interpolation routines\n",
    "    def __init__(self, yield_curve, tenor, node):\n",
    "        self.yield_curve = yield_curve\n",
    "        self.tenor = tenor\n",
    "        self.node = node\n",
    "        self.n1 = len(self.yield_curve )\n",
    "        self.n2 = len(self.tenor)\n",
    "        self.n3 = len(node)\n",
    "        \n",
    "    def check_dim(self):\n",
    "        return self.n1 == self.n2\n",
    "    \n",
    "    def check_tenor_vector(self):\n",
    "        sum1 = 0\n",
    "        for i in range(self.n1):\n",
    "            if i == 0:\n",
    "                sum1 = (self.tenor[i] > 0)\n",
    "            elif (self.tenor[i] > 0) and (self.tenor[i] > self.tenor[i - 1]):\n",
    "                sum1 = (self.tenor[i] > 0) + sum1\n",
    "            else:\n",
    "                sum1 = sum1\n",
    "        \n",
    "        return sum1 == self.n2\n",
    "    \n",
    "    \n",
    "    \n",
    "    def interpolator2(self, m1, months, zc_rates):\n",
    "        n = len(months) - 1\n",
    "        if m1 <= months[0]:\n",
    "            return zc_rates[0]\n",
    "        elif m1 >= months[n]:\n",
    "            return zc_rates[n]\n",
    "        else:\n",
    "            k = 0\n",
    "            for i in range(n):\n",
    "                if m1 < months[i]:\n",
    "                    k = k + 1\n",
    "            a = (zc_rates[n - k] - zc_rates[n - k - 1])/(months[n - k ] - months[n -k - 1])\n",
    "            b = zc_rates[n - k - 1] - a * months[n - k -1]\n",
    "            c = m1*a + b\n",
    "            return c\n",
    "        \n",
    "    def interpolator1(self):\n",
    "        result = []\n",
    "        for i in range(self.n3):\n",
    "            result.append(self.interpolator2(self.node[i], self.tenor, self.yield_curve)) \n",
    "            \n",
    "        return result \n",
    "\n",
    "    "
   ]
  },
  {
   "cell_type": "code",
   "execution_count": 6,
   "metadata": {},
   "outputs": [],
   "source": [
    "my_yield = yield_manager(lib0, dt0, node2)"
   ]
  },
  {
   "cell_type": "code",
   "execution_count": 7,
   "metadata": {},
   "outputs": [
    {
     "data": {
      "text/plain": [
       "True"
      ]
     },
     "execution_count": 7,
     "metadata": {},
     "output_type": "execute_result"
    }
   ],
   "source": [
    "my_yield.check_dim()"
   ]
  },
  {
   "cell_type": "code",
   "execution_count": 8,
   "metadata": {},
   "outputs": [
    {
     "data": {
      "text/plain": [
       "True"
      ]
     },
     "execution_count": 8,
     "metadata": {},
     "output_type": "execute_result"
    }
   ],
   "source": [
    "my_yield.check_tenor_vector()"
   ]
  },
  {
   "cell_type": "code",
   "execution_count": 9,
   "metadata": {},
   "outputs": [
    {
     "data": {
      "text/plain": [
       "[1, 3, 6, 12, 24, 36, 60, 84, 120, 180]"
      ]
     },
     "execution_count": 9,
     "metadata": {},
     "output_type": "execute_result"
    }
   ],
   "source": [
    "my_yield.tenor"
   ]
  },
  {
   "cell_type": "code",
   "execution_count": 10,
   "metadata": {},
   "outputs": [
    {
     "data": {
      "text/plain": [
       "[0.005666666666666666,\n",
       " 0.012266666666666665,\n",
       " 0.016225000000000003,\n",
       " 0.01878888888888889]"
      ]
     },
     "execution_count": 10,
     "metadata": {},
     "output_type": "execute_result"
    }
   ],
   "source": [
    "my_yield.interpolator1()"
   ]
  },
  {
   "cell_type": "code",
   "execution_count": 11,
   "metadata": {},
   "outputs": [],
   "source": [
    "class tenor_manager:\n",
    "    def __init__(self, n_payments, days_to_next_payment, coupon_period, day_convention, rates_tenors, yields0):\n",
    "        self.n_payments0 = n_payments\n",
    "        self.dtnp = days_to_next_payment\n",
    "        self.coupon_period = coupon_period\n",
    "        self.day_convention0 = day_convention\n",
    "        self.rates_tenors = rates_tenors \n",
    "        self.yields0 = yields0\n",
    "        self.n3b = len(self.rates_tenors)\n",
    "        \n",
    "    def tenor_calculator(self):\n",
    "        self.tenor_vector0 = np.zeros(self.n_payments0)\n",
    "        for i in range(self.n_payments0 ):\n",
    "            if i == 0:\n",
    "                self.tenor_vector0[i] = self.dtnp/self.day_convention0\n",
    "            else:\n",
    "                self.tenor_vector0[i] = self.tenor_vector0[i - 1] + self.dtnp/self.day_convention0\n",
    "        \n",
    "        return self.tenor_vector0\n",
    "    \n",
    "    def interpolator2b(self, m1, months, zc_rates):\n",
    "        n = len(months) - 1\n",
    "        if m1 <= months[0]:\n",
    "            return zc_rates[0]\n",
    "        elif m1 >= months[n]:\n",
    "            return zc_rates[n]\n",
    "        else:\n",
    "            k = 0\n",
    "            for i in range(n):\n",
    "                if m1 < months[i]:\n",
    "                    k = k + 1\n",
    "            a = (zc_rates[n - k] - zc_rates[n - k - 1])/(months[n - k ] - months[n -k - 1])\n",
    "            b = zc_rates[n - k - 1] - a * months[n - k -1]\n",
    "            c = m1*a + b\n",
    "            return c\n",
    "        \n",
    "    def interpolator1b(self):\n",
    "        nx = len(self.tenor_calculator())\n",
    "        result = []\n",
    "        for i in range(nx):\n",
    "            result.append(self.interpolator2b(self.tenor_calculator()[i], self.rates_tenors, self.yields0)) \n",
    "            \n",
    "        return result \n",
    "\n",
    "        \n",
    "    \n",
    "    \n",
    "    \n",
    "\n",
    "        "
   ]
  },
  {
   "cell_type": "code",
   "execution_count": null,
   "metadata": {},
   "outputs": [],
   "source": []
  },
  {
   "cell_type": "code",
   "execution_count": null,
   "metadata": {},
   "outputs": [],
   "source": []
  },
  {
   "cell_type": "code",
   "execution_count": null,
   "metadata": {},
   "outputs": [],
   "source": []
  },
  {
   "cell_type": "code",
   "execution_count": null,
   "metadata": {},
   "outputs": [],
   "source": [
    "\n"
   ]
  },
  {
   "cell_type": "code",
   "execution_count": null,
   "metadata": {},
   "outputs": [],
   "source": []
  },
  {
   "cell_type": "code",
   "execution_count": 125,
   "metadata": {},
   "outputs": [],
   "source": [
    "class MBS(tenor_manager):\n",
    "    def __init__(self, tenor, rates, prepayment, notional, n_payments, days_next_payment,\n",
    "                 coupon_days, mortg_coupon, bond_coupon, day_convention):\n",
    "        self.tenors = tenor #Tenor vector of the yield curve\n",
    "        self.rates = rates #yields vector\n",
    "        self.prepayment = prepayment #prepayment rate\n",
    "        self.prepayment_adj = 1 - (1 - self.prepayment)**(1/12) #Adjustment prepayment per month\n",
    "        self.notional = notional #face value\n",
    "        #self.frequency = frequency\n",
    "        #self.date0 = date0\n",
    "        #self.date1 = date1\n",
    "        self.mortg_coupon = mortg_coupon #average mortgage coupon payment\n",
    "        self.bond_coupon = bond_coupon #pass-through coupon\n",
    "        self.n_payments = n_payments #number of payments  are equal for the mortgage and for the pass-through\n",
    "        self.next_payment = days_next_payment # days for the next coupon\n",
    "        self.coupon_days = coupon_days #days for the period of each coupon\n",
    "        self.day_convention = day_convention #360 or 365 or 28 for months\n",
    "        self.A = 1 / (1 + self.mortg_coupon * self.day_convention/360)\n",
    "        self.C = self.notional / self.A * (1 - self.A)/(1 - self.A**self.n_payments)\n",
    "        tenor_manager.__init__(self, n_payments = self.n_payments,\n",
    "                               days_to_next_payment = self.next_payment, \n",
    "                               coupon_period = self.coupon_days, \n",
    "                               day_convention = self.day_convention,\n",
    "                               rates_tenors = self.tenors, yields0 = self.rates)\n",
    "        \n",
    "    def return_tenors(self):\n",
    "        return self.tenor_calculator()\n",
    "    \n",
    "    def return_interpolated_yields(self):\n",
    "        return self.interpolator1b()\n",
    "    \n",
    "    def return_disc_factors(self):\n",
    "        self.df_vector = np.zeros(self.n_payments)\n",
    "        for i in range(self.n_payments):\n",
    "            self.df_vector[i] = 1/(1 + \n",
    "                                   self.return_interpolated_yields()[i]*self.return_tenors()[i]/self.day_convention)\n",
    "            \n",
    "        return self.df_vector\n",
    "    \n",
    "    def return_mortg_cf_pv(self):\n",
    "        self.pv_cf_mtg_vector = np.zeros(self.n_payments)\n",
    "        self.df_vector = self.return_disc_factors()\n",
    "        for i in range(self.n_payments):\n",
    "            self.pv_cf_mtg_vector[i] = self.notional * self.mortg_coupon * self.df_vector[i] * self.day_convention/360\n",
    "            \n",
    "        return self.pv_cf_mtg_vector\n",
    "    \n",
    "    def mbs_pricing(self ):\n",
    "        self.tenor1 = self.return_tenors()\n",
    "        self.cf_investors = np.zeros(self.n_payments)\n",
    "        self.mort_rate = np.zeros(self.n_payments)\n",
    "        self.diff1 = np.zeros(self.n_payments)\n",
    "        self.pp_investors = np.zeros(self.n_payments)\n",
    "        self.int_pp = np.zeros(self.n_payments)\n",
    "        self.cf_to_pp = np.zeros(self.n_payments)\n",
    "        self.balance = np.zeros(self.n_payments)\n",
    "        self.df = self.return_disc_factors()#np.zeros(self.n_payments)\n",
    "        self.pv = np.zeros(self.n_payments)\n",
    "        #adj_pp = self.prepayment_adj\n",
    "        \n",
    "            \n",
    "        for i in range(self.n_payments):\n",
    "            if i == 0:\n",
    "                self.tenor1[i] = i + 1\n",
    "                self.cf_investors[i] = self.C\n",
    "                self.mort_rate[i] = self.notional * self.mortg_coupon / 12\n",
    "                self.diff1[i] = self.cf_investors[i] - self.mort_rate[i]\n",
    "                self.pp_investors[i] = self.notional * self.prepayment_adj\n",
    "                self.int_pp[i] = self.notional * self.bond_coupon / 12\n",
    "                self.cf_to_pp[i] = self.int_pp[i] + self.pp_investors[i] + self.diff1[i]\n",
    "                self.balance[i] = max(self.notional - self.diff1[i] -  self.pp_investors[i], 0)\n",
    "                #self.df[i] = 1/(1 + self.tenor1[i]*interpolator(tenor1[i],dt0,libor)/12)\n",
    "                self.pv[i] = self.cf_to_pp[i] * self.df[i]\n",
    "            else:\n",
    "                self.tenor1[i] = i + 1\n",
    "                self.cf_investors[i] = self.cf_investors[i-1]*(1 - self.prepayment_adj)\n",
    "                self.mort_rate[i] = self.balance[i-1] * self.mortg_coupon / 12 #Change Mortgage to updated capital\n",
    "                self.diff1[i] = self.cf_investors[i] - self.mort_rate[i]\n",
    "                self.pp_investors[i] = self.balance[i-1] * self.prepayment_adj #Change L for updated Capital\n",
    "                self.int_pp[i] = self.balance[i-1] * self.bond_coupon / 12 #Change L for updated Capital\n",
    "                self.cf_to_pp[i] = self.int_pp[i] + self.pp_investors[i] + self.diff1[i]\n",
    "                self.balance[i] = max(self.balance[i-1] - self.diff1[i] -  self.pp_investors[i],0)\n",
    "                #df[i] = 1/(1 + tenor1[i]*interpolator(tenor1[i],dt0,libor)/12)#Function to interpolate\n",
    "                self.pv[i] = self.cf_to_pp[i] * self.df[i]\n",
    "        return(sum(self.pv))\n",
    "    \n",
    "    def mbs_pricing2(self, pp_rate):\n",
    "        self.tenor1 = self.return_tenors()\n",
    "        self.cf_investors = np.zeros(self.n_payments)\n",
    "        self.mort_rate = np.zeros(self.n_payments)\n",
    "        self.diff1 = np.zeros(self.n_payments)\n",
    "        self.pp_investors = np.zeros(self.n_payments)\n",
    "        self.int_pp = np.zeros(self.n_payments)\n",
    "        self.cf_to_pp = np.zeros(self.n_payments)\n",
    "        self.balance = np.zeros(self.n_payments)\n",
    "        self.df = self.return_disc_factors()#np.zeros(self.n_payments)\n",
    "        self.pv = np.zeros(self.n_payments)\n",
    "        #adj_pp = self.prepayment_adj\n",
    "        \n",
    "            \n",
    "        for i in range(self.n_payments):\n",
    "            if i == 0:\n",
    "                self.tenor1[i] = i + 1\n",
    "                self.cf_investors[i] = self.C\n",
    "                self.mort_rate[i] = self.notional * self.mortg_coupon / 12\n",
    "                self.diff1[i] = self.cf_investors[i] - self.mort_rate[i]\n",
    "                self.pp_investors[i] = self.notional * pp_rate#self.prepayment_adj\n",
    "                self.int_pp[i] = self.notional * self.bond_coupon / 12\n",
    "                self.cf_to_pp[i] = self.int_pp[i] + self.pp_investors[i] + self.diff1[i]\n",
    "                self.balance[i] = max(self.notional - self.diff1[i] -  self.pp_investors[i], 0)\n",
    "                #self.df[i] = 1/(1 + self.tenor1[i]*interpolator(tenor1[i],dt0,libor)/12)\n",
    "                self.pv[i] = self.cf_to_pp[i] * self.df[i]\n",
    "            else:\n",
    "                self.tenor1[i] = i + 1\n",
    "                self.cf_investors[i] = self.cf_investors[i-1]*(1 - self.prepayment_adj)\n",
    "                self.mort_rate[i] = self.balance[i-1] * self.mortg_coupon / 12 #Change Mortgage to updated capital\n",
    "                self.diff1[i] = self.cf_investors[i] - self.mort_rate[i]\n",
    "                self.pp_investors[i] = self.balance[i-1] * pp_rate#self.prepayment_adj #Change L for updated Capital\n",
    "                self.int_pp[i] = self.balance[i-1] * self.bond_coupon / 12 #Change L for updated Capital\n",
    "                self.cf_to_pp[i] = self.int_pp[i] + self.pp_investors[i] + self.diff1[i]\n",
    "                self.balance[i] = max(self.balance[i-1] - self.diff1[i] -  self.pp_investors[i],0)\n",
    "                #df[i] = 1/(1 + tenor1[i]*interpolator(tenor1[i],dt0,libor)/12)#Function to interpolate\n",
    "                self.pv[i] = self.cf_to_pp[i] * self.df[i]\n",
    "        return(sum(self.pv))\n",
    "       \n",
    "    \n",
    "    def prepayment_sensitivity(self): #Under review!\n",
    "        self.max1 = self.prepayment_adj * 1.5\n",
    "        self.min1 = self.prepayment_adj * 1/1.5\n",
    "        self.pp_scenarios1 = (np.array(range(100)) + 1)/100 * (self.max1 - self.min1) + self.min1\n",
    "        self.pv_scenarios = np.array(list(map(self.mbs_pricing2, self.pp_scenarios1)))\n",
    "        m1 = pd.DataFrame([self.pp_scenarios1, self.pv_scenarios])\n",
    "        m1 = m1.T\n",
    "        m1.columns = [\"Prepayment\", \"PV\"]\n",
    "        sns.jointplot(x= \"Prepayment\", y =\"PV\", data = m1, alpha = 0.5)\n",
    "        plt.show()\n",
    "        \n",
    "   \n",
    "        "
   ]
  },
  {
   "cell_type": "code",
   "execution_count": 126,
   "metadata": {},
   "outputs": [],
   "source": [
    "my_mbs = MBS(dt0, lib0, 0.05, 100, 100, 28, 28, 0.08, 0.05, 28)"
   ]
  },
  {
   "cell_type": "code",
   "execution_count": 127,
   "metadata": {},
   "outputs": [
    {
     "data": {
      "text/plain": [
       "array([  1.,   2.,   3.,   4.,   5.,   6.,   7.,   8.,   9.,  10.,  11.,\n",
       "        12.,  13.,  14.,  15.,  16.,  17.,  18.,  19.,  20.,  21.,  22.,\n",
       "        23.,  24.,  25.,  26.,  27.,  28.,  29.,  30.,  31.,  32.,  33.,\n",
       "        34.,  35.,  36.,  37.,  38.,  39.,  40.,  41.,  42.,  43.,  44.,\n",
       "        45.,  46.,  47.,  48.,  49.,  50.,  51.,  52.,  53.,  54.,  55.,\n",
       "        56.,  57.,  58.,  59.,  60.,  61.,  62.,  63.,  64.,  65.,  66.,\n",
       "        67.,  68.,  69.,  70.,  71.,  72.,  73.,  74.,  75.,  76.,  77.,\n",
       "        78.,  79.,  80.,  81.,  82.,  83.,  84.,  85.,  86.,  87.,  88.,\n",
       "        89.,  90.,  91.,  92.,  93.,  94.,  95.,  96.,  97.,  98.,  99.,\n",
       "       100.])"
      ]
     },
     "execution_count": 127,
     "metadata": {},
     "output_type": "execute_result"
    }
   ],
   "source": [
    "my_mbs.return_tenors()"
   ]
  },
  {
   "cell_type": "code",
   "execution_count": 128,
   "metadata": {},
   "outputs": [
    {
     "data": {
      "text/plain": [
       "[0.0016,\n",
       " 0.002,\n",
       " 0.0024,\n",
       " 0.0027,\n",
       " 0.003,\n",
       " 0.0033,\n",
       " 0.003183333333333333,\n",
       " 0.0030666666666666668,\n",
       " 0.00295,\n",
       " 0.0028333333333333335,\n",
       " 0.0027166666666666667,\n",
       " 0.0026,\n",
       " 0.002825,\n",
       " 0.00305,\n",
       " 0.003275,\n",
       " 0.0035,\n",
       " 0.003725,\n",
       " 0.00395,\n",
       " 0.004175,\n",
       " 0.0044,\n",
       " 0.004625,\n",
       " 0.00485,\n",
       " 0.0050750000000000005,\n",
       " 0.0053,\n",
       " 0.005666666666666666,\n",
       " 0.006033333333333332,\n",
       " 0.0064,\n",
       " 0.0067666666666666665,\n",
       " 0.007133333333333333,\n",
       " 0.007499999999999999,\n",
       " 0.007866666666666668,\n",
       " 0.008233333333333332,\n",
       " 0.0086,\n",
       " 0.008966666666666668,\n",
       " 0.009333333333333332,\n",
       " 0.0097,\n",
       " 0.009883333333333334,\n",
       " 0.010066666666666668,\n",
       " 0.01025,\n",
       " 0.010433333333333333,\n",
       " 0.010616666666666667,\n",
       " 0.0108,\n",
       " 0.010983333333333335,\n",
       " 0.011166666666666668,\n",
       " 0.011349999999999999,\n",
       " 0.011533333333333333,\n",
       " 0.011716666666666667,\n",
       " 0.0119,\n",
       " 0.012083333333333335,\n",
       " 0.012266666666666665,\n",
       " 0.01245,\n",
       " 0.012633333333333333,\n",
       " 0.012816666666666667,\n",
       " 0.013000000000000001,\n",
       " 0.013183333333333332,\n",
       " 0.013366666666666666,\n",
       " 0.01355,\n",
       " 0.013733333333333334,\n",
       " 0.013916666666666667,\n",
       " 0.0141,\n",
       " 0.014241666666666666,\n",
       " 0.014383333333333333,\n",
       " 0.014525,\n",
       " 0.014666666666666666,\n",
       " 0.014808333333333333,\n",
       " 0.01495,\n",
       " 0.015091666666666666,\n",
       " 0.015233333333333333,\n",
       " 0.015375,\n",
       " 0.015516666666666666,\n",
       " 0.015658333333333333,\n",
       " 0.0158,\n",
       " 0.015941666666666666,\n",
       " 0.01608333333333333,\n",
       " 0.016225000000000003,\n",
       " 0.016366666666666668,\n",
       " 0.016508333333333333,\n",
       " 0.01665,\n",
       " 0.01679166666666667,\n",
       " 0.016933333333333335,\n",
       " 0.017075,\n",
       " 0.01721666666666667,\n",
       " 0.017358333333333337,\n",
       " 0.0175,\n",
       " 0.017580555555555558,\n",
       " 0.017661111111111114,\n",
       " 0.01774166666666667,\n",
       " 0.017822222222222225,\n",
       " 0.017902777777777778,\n",
       " 0.017983333333333334,\n",
       " 0.01806388888888889,\n",
       " 0.018144444444444446,\n",
       " 0.018225,\n",
       " 0.018305555555555558,\n",
       " 0.01838611111111111,\n",
       " 0.018466666666666666,\n",
       " 0.018547222222222222,\n",
       " 0.018627777777777778,\n",
       " 0.018708333333333334,\n",
       " 0.01878888888888889]"
      ]
     },
     "execution_count": 128,
     "metadata": {},
     "output_type": "execute_result"
    }
   ],
   "source": [
    "my_mbs.return_interpolated_yields()"
   ]
  },
  {
   "cell_type": "code",
   "execution_count": 129,
   "metadata": {},
   "outputs": [
    {
     "data": {
      "text/plain": [
       "array([0.99994286, 0.99985716, 0.99974292, 0.99961443, 0.99946457,\n",
       "       0.99929336, 0.9992048 , 0.99912458, 0.99905268, 0.99898912,\n",
       "       0.99893388, 0.99888695, 0.99869011, 0.99847732, 0.99824861,\n",
       "       0.99800399, 0.9977435 , 0.99746715, 0.99717497, 0.99686699,\n",
       "       0.99654324, 0.99620375, 0.99584856, 0.99547769, 0.99496595,\n",
       "       0.99442883, 0.99386642, 0.99327881, 0.99266609, 0.99202834,\n",
       "       0.99136568, 0.99067819, 0.98996599, 0.98922918, 0.98846787,\n",
       "       0.98768219, 0.98710825, 0.98652223, 0.98592417, 0.98531413,\n",
       "       0.98469214, 0.98405826, 0.98341252, 0.98275499, 0.9820857 ,\n",
       "       0.98140472, 0.98071208, 0.98000784, 0.97929205, 0.97856477,\n",
       "       0.97782605, 0.97707594, 0.97631449, 0.97554177, 0.97475783,\n",
       "       0.97396273, 0.97315652, 0.97233926, 0.97151102, 0.97067184,\n",
       "       0.96990719, 0.96913423, 0.96835301, 0.96756358, 0.96676598,\n",
       "       0.96596025, 0.96514644, 0.96432458, 0.96349473, 0.96265693,\n",
       "       0.96181123, 0.96095766, 0.96009628, 0.95922714, 0.95835027,\n",
       "       0.95746573, 0.95657355, 0.9556738 , 0.95476652, 0.95385174,\n",
       "       0.95292954, 0.95199994, 0.951063  , 0.95011876, 0.94933445,\n",
       "       0.94854626, 0.9477542 , 0.94695831, 0.9461586 , 0.9453551 ,\n",
       "       0.94454783, 0.94373681, 0.94292206, 0.94210362, 0.9412815 ,\n",
       "       0.94045572, 0.93962631, 0.93879329, 0.93795668, 0.93711651])"
      ]
     },
     "execution_count": 129,
     "metadata": {},
     "output_type": "execute_result"
    }
   ],
   "source": [
    "my_mbs.return_disc_factors()"
   ]
  },
  {
   "cell_type": "code",
   "execution_count": 130,
   "metadata": {},
   "outputs": [
    {
     "data": {
      "text/plain": [
       "array([0.62218667, 0.62213335, 0.62206226, 0.62198231, 0.62188907,\n",
       "       0.62178253, 0.62172743, 0.62167751, 0.62163278, 0.62159323,\n",
       "       0.62155886, 0.62152966, 0.62140718, 0.62127478, 0.62113247,\n",
       "       0.62098026, 0.62081818, 0.62064622, 0.62046442, 0.62027279,\n",
       "       0.62007135, 0.61986011, 0.6196391 , 0.61940834, 0.61908992,\n",
       "       0.61875572, 0.61840578, 0.61804015, 0.6176589 , 0.61726208,\n",
       "       0.61684975, 0.61642198, 0.61597884, 0.61552038, 0.61504668,\n",
       "       0.61455781, 0.61420069, 0.61383605, 0.61346393, 0.61308435,\n",
       "       0.61269733, 0.61230291, 0.61190113, 0.61149199, 0.61107555,\n",
       "       0.61065182, 0.61022085, 0.60978266, 0.60933728, 0.60888475,\n",
       "       0.6084251 , 0.60795836, 0.60748457, 0.60700377, 0.60651599,\n",
       "       0.60602125, 0.60551961, 0.6050111 , 0.60449574, 0.60397359,\n",
       "       0.6034978 , 0.60301685, 0.60253076, 0.60203956, 0.60154328,\n",
       "       0.60104193, 0.60053556, 0.60002418, 0.59950783, 0.59898654,\n",
       "       0.59846032, 0.59792921, 0.59739324, 0.59685244, 0.59630683,\n",
       "       0.59575645, 0.59520132, 0.59464148, 0.59407694, 0.59350775,\n",
       "       0.59293393, 0.59235552, 0.59177253, 0.59118501, 0.59069699,\n",
       "       0.59020656, 0.58971373, 0.5892185 , 0.58872091, 0.58822095,\n",
       "       0.58771865, 0.58721401, 0.58670706, 0.58619781, 0.58568626,\n",
       "       0.58517245, 0.58465637, 0.58413804, 0.58361749, 0.58309472])"
      ]
     },
     "execution_count": 130,
     "metadata": {},
     "output_type": "execute_result"
    }
   ],
   "source": [
    "my_mbs.return_mortg_cf_pv()"
   ]
  },
  {
   "cell_type": "code",
   "execution_count": 131,
   "metadata": {},
   "outputs": [
    {
     "data": {
      "text/plain": [
       "115.93814742464451"
      ]
     },
     "execution_count": 131,
     "metadata": {},
     "output_type": "execute_result"
    }
   ],
   "source": [
    "my_mbs.mbs_pricing()"
   ]
  },
  {
   "cell_type": "code",
   "execution_count": 132,
   "metadata": {},
   "outputs": [
    {
     "data": {
      "image/png": "[encoded data removed]",
      "text/plain": [
       "<Figure size 432x432 with 3 Axes>"
      ]
     },
     "metadata": {
      "needs_background": "light"
     },
     "output_type": "display_data"
    }
   ],
   "source": [
    "my_mbs.prepayment_sensitivity()"
   ]
  },
  {
   "cell_type": "code",
   "execution_count": 133,
   "metadata": {},
   "outputs": [
    {
     "data": {
      "text/plain": [
       "182.56376063755698"
      ]
     },
     "execution_count": 133,
     "metadata": {},
     "output_type": "execute_result"
    }
   ],
   "source": [
    "my_mbs.mbs_pricing2(0.10)"
   ]
  },
  {
   "cell_type": "code",
   "execution_count": null,
   "metadata": {},
   "outputs": [],
   "source": []
  },
  {
   "cell_type": "code",
   "execution_count": null,
   "metadata": {},
   "outputs": [],
   "source": []
  }
 ],
 "metadata": {
  "kernelspec": {
   "display_name": "Python 3",
   "language": "python",
   "name": "python3"
  },
  "language_info": {
   "codemirror_mode": {
    "name": "ipython",
    "version": 3
   },
   "file_extension": ".py",
   "mimetype": "text/x-python",
   "name": "python",
   "nbconvert_exporter": "python",
   "pygments_lexer": "ipython3",
   "version": "3.6.10"
  }
 },
 "nbformat": 4,
 "nbformat_minor": 4
}
